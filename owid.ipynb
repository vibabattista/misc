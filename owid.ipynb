{
 "cells": [
  {
   "cell_type": "markdown",
   "metadata": {},
   "source": [
    "# Data analysis exercise\n",
    "\n",
    "By Viba Courtney-Battista, vcourtneybattista@gmail.com\n",
    "\n",
    "In this analysis, I've calculated the Crude Death Rates (CDR) and Age-Standardized Death Rates (ASDR) for COPD in the United States and Uganda for the year 2019 using provided datasets. \n",
    "\n",
    "I will outline a step by step approach below for how the results are obtained:\n",
    "1. Load in the provided datasets:  I imported age-specific death rates from a CSV file for each country. These rates represent the number of deaths due to COPD per 100,000 individuals within specified age groups.\n",
    "2. Crude death rate calculation: I computed the CDR by summing the age-specific death rates for each country. This approach is valid given that the provided rates accurately represent deaths per 100,000 across the entire population spectrum. Therefore, the sum gives a comprehensive rate reflecting the total impact of COPD across all age groups.\n",
    "3. Standard Population Data Loading: I then imported the WHO standard population distribution from the provided location. This dataset is crucial for adjusting the death rates to a standard age distribution, allowing for fair comparisons between countries with different age structures.\n",
    "4. Age-Standardized Death Rate Calculation: I calculated the ASDR by applying the age-specific death rates to the standard population weights, providing a summary measure that is independent of the age distribution differences between the countries. This was achieved using a weighted average, where the weights are the proportions of the standard population in each age group. Note a drawback of using this dataset is that it is a global average and not the corresponding population in the US and Uganda, however it should still provide a meaningful estimate.\n",
    "5. Finally the results are reported and formatted as required."
   ]
  },
  {
   "cell_type": "code",
   "execution_count": 29,
   "metadata": {},
   "outputs": [],
   "source": [
    "import pandas as pd\n",
    "import numpy as np"
   ]
  },
  {
   "cell_type": "code",
   "execution_count": 31,
   "metadata": {},
   "outputs": [
    {
     "name": "stdout",
     "output_type": "stream",
     "text": [
      "Crude Death Rate (US):  2164.7 deaths per 100,000 people\n",
      "Crude Death Rate (Uganda):  2058.6 deaths per 100,000 people\n",
      "Age-Standardized Death Rate (US):  28.4 deaths per 100,000 people\n",
      "Age-Standardized Death Rate (Uganda):  28.7 deaths per 100,000 people\n"
     ]
    }
   ],
   "source": [
    "# Read the age-specific death rates data\n",
    "age_specific_death_rates = pd.read_csv('datasets/age_specific_death_rates.csv')\n",
    "\n",
    "# Calculate the crude death rate for each country\n",
    "crude_death_rate_us = age_specific_death_rates['Death rate, United States, 2019'].sum()\n",
    "crude_death_rate_ug = age_specific_death_rates['Death rate, Uganda, 2019'].sum()\n",
    "\n",
    "# Read the standard population data\n",
    "standard_population = pd.read_csv('datasets/standard_population.csv')\n",
    "\n",
    "# Calculate the age-standardized death rate for each country\n",
    "age_standardized_death_rate_us = np.average(age_specific_death_rates['Death rate, United States, 2019'], weights=standard_population['WHO World Standard*'].values, axis=0)\n",
    "age_standardized_death_rate_ug = np.average(age_specific_death_rates['Death rate, Uganda, 2019'], weights=standard_population['WHO World Standard*'].values, axis=0)\n",
    "\n",
    "# Print the calculated death rates\n",
    "print(f\"Crude Death Rate (US): {crude_death_rate_us: .1f} deaths per 100,000 people\")\n",
    "print(f\"Crude Death Rate (Uganda): {crude_death_rate_ug: .1f} deaths per 100,000 people\")\n",
    "print(f\"Age-Standardized Death Rate (US): {age_standardized_death_rate_us: .1f} deaths per 100,000 people\")\n",
    "print(f\"Age-Standardized Death Rate (Uganda): {age_standardized_death_rate_ug: .1f} deaths per 100,000 people\")\n"
   ]
  },
  {
   "cell_type": "markdown",
   "metadata": {},
   "source": [
    "# Differences in Death Rates:\n",
    "\n",
    "The CDRs are significantly higher than the ASDRs due to the direct summation of age-specific rates, reflecting the total burden without age structure adjustment.\n",
    "The ASDRs are lower and very similar between the two countries, indicating that when adjusting for age distribution, the COPD mortality rates are more comparable internationally."
   ]
  }
 ],
 "metadata": {
  "kernelspec": {
   "display_name": ".venv",
   "language": "python",
   "name": "python3"
  },
  "language_info": {
   "codemirror_mode": {
    "name": "ipython",
    "version": 3
   },
   "file_extension": ".py",
   "mimetype": "text/x-python",
   "name": "python",
   "nbconvert_exporter": "python",
   "pygments_lexer": "ipython3",
   "version": "3.9.6"
  }
 },
 "nbformat": 4,
 "nbformat_minor": 2
}
